{
 "cells": [
  {
   "cell_type": "code",
   "execution_count": 1,
   "metadata": {
    "collapsed": true
   },
   "outputs": [],
   "source": [
    "import os\n",
    "os.environ['THEANO_FLAGS'] = 'device=gpu, floatX=float32'"
   ]
  },
  {
   "cell_type": "code",
   "execution_count": 2,
   "metadata": {
    "collapsed": false
   },
   "outputs": [
    {
     "name": "stderr",
     "output_type": "stream",
     "text": [
      "Using gpu device 0: GeForce GTX 680\n"
     ]
    }
   ],
   "source": [
    "import matplotlib.pyplot as plt\n",
    "import matplotlib.image as mpimg\n",
    "import numpy as np\n",
    "import cPickle as pickle\n",
    "import scipy.io\n",
    "import time\n",
    "import ssn\n",
    "import ks_test\n",
    "from hyperopt import fmin, tpe, hp, STATUS_OK, Trials\n",
    "\n",
    "from theano import *\n",
    "import theano.tensor as T\n",
    "\n",
    "%matplotlib inline"
   ]
  },
  {
   "cell_type": "code",
   "execution_count": 3,
   "metadata": {
    "collapsed": true
   },
   "outputs": [],
   "source": [
    "# define symbolic variables for theano\n",
    "dt = T.scalar('dt', dtype='float32')\n",
    "c = T.scalar(\"c\", dtype='float32')\n",
    "h = T.matrix(\"h\", dtype='float32')\n",
    "n_E = T.matrix(\"n_E\", dtype='float32')\n",
    "n_I = T.matrix(\"n_I\", dtype='float32')\n",
    "W_EE = T.tensor3(\"W_EE\", dtype='float32')\n",
    "W_EI = T.tensor3(\"W_EI\", dtype='float32')\n",
    "W_IE = T.tensor3(\"W_IE\", dtype='float32')\n",
    "W_II = T.tensor3(\"W_II\", dtype='float32')\n",
    "k = T.matrix(\"k\", dtype='float32')\n",
    "tau_E = T.matrix(\"tau_E\", dtype='float32')\n",
    "tau_I = T.matrix(\"tau_I\", dtype='float32')\n",
    "\n",
    "I_E = T.matrix('I_E', dtype='float32')\n",
    "I_I = T.matrix('I_I', dtype='float32')\n",
    "\n",
    "I_thresh_E = T.matrix('I_thresh_E', dtype='float32')\n",
    "I_thresh_I = T.matrix('I_thresh_I', dtype='float32')\n",
    "\n",
    "r_SS_E = T.matrix('r_SS_E', dtype='float32')\n",
    "r_SS_I = T.matrix('r_SS_I', dtype='float32')\n",
    "\n",
    "r_e = T.matrix(\"r_e\", dtype='float32')\n",
    "r_i = T.matrix(\"r_i\", dtype='float32')\n",
    "\n",
    "# initial firing rates are all zero\n",
    "r_E = theano.shared(np.zeros((75,75), dtype='float32'))\n",
    "r_I = theano.shared(np.zeros((75,75), dtype='float32'))\n",
    "\n",
    "# Compile functions:\n",
    "I_E = c*h + T.sum(T.sum(W_EE*r_e,1),1).reshape((75,75)).T - T.sum(T.sum(W_EI*r_i,1),1).reshape((75,75)).T\n",
    "I_I = c*h + T.sum(T.sum(W_IE*r_e,1),1).reshape((75,75)).T - T.sum(T.sum(W_II*r_i,1),1).reshape((75,75)).T\n",
    "\n",
    "I_thresh_E = T.switch(T.lt(I_E,0), 0, I_E)\n",
    "I_thresh_I = T.switch(T.lt(I_I,0), 0, I_I)\n",
    "\n",
    "r_SS_E = k*T.pow(I_thresh_E, n_E)\n",
    "r_SS_I = k*T.pow(I_thresh_I, n_I)\n",
    "\n",
    "euler_E = r_e + dt*(-r_e+r_SS_E)/tau_E\n",
    "euler_I = r_i + dt*(-r_i+r_SS_I)/tau_I\n",
    "\n",
    "euler = theano.function(inputs=[dt,c,h,W_EE,W_EI,W_IE,W_II,n_E,n_I,k,tau_E,tau_I], \n",
    "                            outputs=[r_E, r_I],\n",
    "                            givens={r_e:r_E, r_i:r_I},\n",
    "                            updates=[(r_E,euler_E), (r_I,euler_I)],\n",
    "                            allow_input_downcast=True)"
   ]
  },
  {
   "cell_type": "code",
   "execution_count": 4,
   "metadata": {
    "collapsed": true
   },
   "outputs": [],
   "source": [
    "# Define Hyperopt search space:\n",
    "space = [hp.uniform('sig_EE',7,9), \n",
    "         hp.uniform('sig_IE',10,16), \n",
    "         hp.uniform('sig_EI',3,5),\n",
    "         hp.uniform('sig_II',3,5),\n",
    "         hp.uniform('J_EE',0.09,0.105),\n",
    "         hp.uniform('J_IE',0.35,0.45),\n",
    "         hp.uniform('J_EI',0.089,0.105),\n",
    "         hp.uniform('J_II',0.08,0.105)]"
   ]
  },
  {
   "cell_type": "code",
   "execution_count": 5,
   "metadata": {
    "collapsed": false
   },
   "outputs": [
    {
     "name": "stdout",
     "output_type": "stream",
     "text": [
      "Elapsed time to load maps: 0 seconds\n"
     ]
    }
   ],
   "source": [
    "# load Blasdel orientation and ocular dominance maps (previously processed,\n",
    "# see map_analysis.ipynb\n",
    "st = time.time()\n",
    "# [OD_map_full, OP_map_full] = np.load('saved_vars/maps-Nov-7.p', 'rb')\n",
    "[OD_map_full, OP_map_full] = np.load('saved_vars/maps-Nov-13.p', 'rb')\n",
    "print \"Elapsed time to load maps: %d seconds\" % (time.time() - st)\n",
    "\n",
    "# plt.figure()\n",
    "# plt.imshow(OD_map_full)\n",
    "# plt.colorbar()\n",
    "# plt.title('Full ocular dominance map, Obermayer and Blasdel')\n",
    "\n",
    "# plt.figure()\n",
    "# plt.imshow(OP_map_full)\n",
    "# plt.colorbar()\n",
    "# plt.title('Full orientation map, Obermayer and Blasdel')\n",
    "\n",
    "OD_map = OD_map_full[-75:,-75:]\n",
    "OP_map = np.floor(OP_map_full[-75:,-75:])"
   ]
  },
  {
   "cell_type": "code",
   "execution_count": 6,
   "metadata": {
    "collapsed": false
   },
   "outputs": [],
   "source": [
    "n_units = 50\n",
    "selected_units = np.floor( 75*np.random.rand(n_units, 2) )\n",
    "\n",
    "OD_prefs = np.zeros(len(selected_units))\n",
    "for i in range(len(selected_units)):\n",
    "    xi = selected_units[i,0]\n",
    "    yi = selected_units[i,1]\n",
    "    OD_prefs[i] = OD_map[yi,xi]"
   ]
  },
  {
   "cell_type": "code",
   "execution_count": 9,
   "metadata": {
    "collapsed": true
   },
   "outputs": [],
   "source": [
    "# Define objective funtion for hyperopt:\n",
    "def iot_ssn_ks2d(args):\n",
    "    sig_EE, sig_IE, sig_EI, sig_II, J_EE, J_IE, J_EI, J_II = args\n",
    "    \n",
    "    # Generate SSN with specified hyperparams:\n",
    "    ss_net = ssn.SSNetwork(sig_EE, sig_IE, sig_EI, sig_II, J_EE, J_IE, J_EI, J_II, ori_map=OP_map, ocd_map=OD_map)\n",
    "    \n",
    "    # TODO: Check the stability of the network and abort if unstable (return high value)\n",
    "    \n",
    "    c0 = 40\n",
    "    dt0 = 0.005\n",
    "    timesteps = 100\n",
    "    dx = ss_net.dx\n",
    "    N_pairs = ss_net.N_pairs\n",
    "    \n",
    "    # Cast SSN variables to float32 for Theano:\n",
    "    W_EE0 = ss_net.W_EE.astype('float32')\n",
    "    W_EI0 = ss_net.W_EI.astype('float32')\n",
    "    W_IE0 = ss_net.W_IE.astype('float32')\n",
    "    W_II0 = ss_net.W_II.astype('float32')\n",
    "\n",
    "    k0 = ss_net.k.astype('float32')\n",
    "    n_E0 = ss_net.n_E.astype('float32')\n",
    "    n_I0 = ss_net.n_I.astype('float32')\n",
    "\n",
    "    tau_E0 = ss_net.tau_E.astype('float32')\n",
    "    tau_I0 = ss_net.tau_I.astype('float32')\n",
    "    \n",
    "    # probe the monocular size tuning for the selected units and # find the SFS for each unit:\n",
    "    dom_sfs_E = np.zeros(n_units)\n",
    "    dom_sfs_I = np.copy(dom_sfs_E)\n",
    "    sfs_fr_E = np.zeros(n_units)\n",
    "    sfs_fr_I = np.copy(sfs_fr_E)\n",
    "    stim_sizes = np.linspace(0.5,5,10)\n",
    "    surround_outer_d = 10\n",
    "    dom_size_tuning_results = np.zeros((n_units, len(stim_sizes)+1, 2))\n",
    "    \n",
    "    for i in range(n_units):\n",
    "        sfs_found_E = False\n",
    "        sfs_found_I = False\n",
    "        xi = selected_units[i,0]\n",
    "        yi = selected_units[i,1]\n",
    "        ori = OP_map[yi,xi]\n",
    "        ocularity = np.round(OD_prefs[i])\n",
    "        for j in range(len(stim_sizes)):\n",
    "            h0 = ssn.generate_ext_stimulus( ori, stim_sizes[j], [dx*xi, dx*yi], OP_map, OD_map, ocularity)\n",
    "            for t in range(timesteps):\n",
    "                euler(dt0,c0,h0,W_EE0,W_EI0,W_IE0,W_II0,n_E0,n_I0,k0,tau_E0,tau_I0)\n",
    "                \n",
    "            dom_size_tuning_results[i,j,0] = r_E.get_value()[yi,xi]\n",
    "            dom_size_tuning_results[i,j,1] = r_I.get_value()[yi,xi] \n",
    "            r_E.set_value(np.zeros((N_pairs,N_pairs),dtype='float32'))\n",
    "            r_I.set_value(np.zeros((N_pairs,N_pairs),dtype='float32'))\n",
    "                          \n",
    "            # check to see if any of the rates overflowed:\n",
    "            if dom_size_tuning_results[i,j,0]>1000 or np.isnan(dom_size_tuning_results[i,j,0]):\n",
    "                print \"Network unstable, skipping!\"\n",
    "                return {\n",
    "                    'status':'fail',\n",
    "                    'loss':10000,\n",
    "                    'attachments':{'msg':'Network was unstable (1)'}\n",
    "                    }\n",
    "            if dom_size_tuning_results[i,j,0] > sfs_fr_E[i]:\n",
    "                sfs_fr_E[i] = dom_size_tuning_results[i,j,0]\n",
    "                dom_sfs_E[i] = stim_sizes[j]\n",
    "            else:\n",
    "                sfs_found_E = True\n",
    "                          \n",
    "            if dom_size_tuning_results[i,j,1] > sfs_fr_I[i]:\n",
    "                sfs_fr_I[i] = dom_size_tuning_results[i,j,1]\n",
    "                dom_sfs_I[i] = stim_sizes[j]\n",
    "            else:\n",
    "                sfs_found_I = True\n",
    "            \n",
    "            if sfs_found_E and sfs_found_I:\n",
    "                break\n",
    "    \n",
    "    # probe the dominant eye surround suppression:\n",
    "    for i in range(n_units):\n",
    "        xi = selected_units[i,0]\n",
    "        yi = selected_units[i,1]\n",
    "        ori = OP_map[yi,xi]\n",
    "        ocularity = np.round(OD_prefs[i])\n",
    "        h0 = ssn.generate_ext_stimulus( ori, surround_outer_d, [dx*xi, dx*yi], OP_map, OD_map, ocularity)\n",
    "        for t in range(timesteps):\n",
    "            euler(dt0,c0,h0,W_EE0,W_EI0,W_IE0,W_II0,n_E0,n_I0,k0,tau_E0,tau_I0)\n",
    "\n",
    "        dom_size_tuning_results[i,-1,0] = r_E.get_value()[yi,xi]\n",
    "        dom_size_tuning_results[i,-1,1] = r_I.get_value()[yi,xi] \n",
    "        r_E.set_value(np.zeros((N_pairs,N_pairs),dtype='float32'))\n",
    "        r_I.set_value(np.zeros((N_pairs,N_pairs),dtype='float32'))\n",
    "                          \n",
    "    # Now probe the non dominant stimuli (surround only)\n",
    "    non_dom_surround_results = np.zeros((n_units, 2))\n",
    "    for i in range(n_units):\n",
    "        xi = selected_units[i,0]\n",
    "        yi = selected_units[i,1]\n",
    "        ori = OP_map[yi,xi]\n",
    "        dom_ocu = np.round(OD_prefs[i])\n",
    "        nd_ocu = np.abs(dom_ocu-1)\n",
    "        centre = ssn.generate_ext_stimulus( ori, dom_sfs_E[i], [dx*xi, dx*yi], OP_map, OD_map, dom_ocu )\n",
    "        surround = ssn.generate_ring_stimulus( ori, dom_sfs_E[i], surround_outer_d, [dx*xi, dx*yi], nd_ocu, OP_map, OD_map)\n",
    "        h0 = centre + surround\n",
    "        for t in range(timesteps):\n",
    "            euler(dt0,c0,h0,W_EE0,W_EI0,W_IE0,W_II0,n_E0,n_I0,k0,tau_E0,tau_I0)\n",
    "\n",
    "        non_dom_surround_results[i,0] = r_E.get_value()[yi,xi]\n",
    "        if dom_sfs_E[i]==dom_sfs_I[i]:\n",
    "            non_dom_surround_results[i,1] = r_I.get_value()[yi,xi] \n",
    "        else:\n",
    "            r_E.set_value(np.zeros((N_pairs,N_pairs),dtype='float32'))\n",
    "            r_I.set_value(np.zeros((N_pairs,N_pairs),dtype='float32'))\n",
    "            centre = ssn.generate_ext_stimulus( ori, dom_sfs_I[i], [dx*xi, dx*yi], OP_map, OD_map, dom_ocu )\n",
    "            surround = ssn.generate_ring_stimulus( ori, dom_sfs_I[i], surround_outer_d, [dx*xi, dx*yi], nd_ocu, OP_map, OD_map)\n",
    "            h0 = centre + surround    \n",
    "            for t in range(timesteps):\n",
    "                euler(dt0,c0,h0,W_EE0,W_EI0,W_IE0,W_II0,n_E0,n_I0,k0,tau_E0,tau_I0)  \n",
    "            non_dom_surround_results[i,1] = r_I.get_value()[yi,xi]\n",
    "        \n",
    "        r_E.set_value(np.zeros((N_pairs,N_pairs),dtype='float32'))\n",
    "        r_I.set_value(np.zeros((N_pairs,N_pairs),dtype='float32'))\n",
    "                          \n",
    "    dom_SI_E = (sfs_fr_E - dom_size_tuning_results[:,-1,0])/sfs_fr_E\n",
    "    non_dom_SI_E = (sfs_fr_E - non_dom_surround_results[:,0])/sfs_fr_E\n",
    "    dom_SI_I = (sfs_fr_I - dom_size_tuning_results[:,-1,1])/sfs_fr_I\n",
    "    non_dom_SI_I = (sfs_fr_I - non_dom_surround_results[:,1])/sfs_fr_I                          \n",
    "    \n",
    "    # Concatenate the E and I results\n",
    "    model_data_x = np.concatenate((dom_SI_E, dom_SI_I))\n",
    "    model_data_y = np.concatenate((non_dom_SI_E, non_dom_SI_I))\n",
    "\n",
    "    deangelis_data = np.array([[42.711, 21.488],\n",
    "                            [44.588, 24.483],\n",
    "                            [44.999, 31.508],\n",
    "                            [58.885, 42.252],\n",
    "                            [56.048, 57.955],\n",
    "                            [64.901, 85.434],\n",
    "                            [75.685, 65.186],\n",
    "                            [79.023, 70.455],\n",
    "                            [84.173, 42.045],\n",
    "                            [98.365, 60.537],\n",
    "                            [98.224, 95.248],\n",
    "                            [82.045, 78.616],\n",
    "                            [81.002, 76.550]])\n",
    "    deangelis_data = deangelis_data/100\n",
    "    \n",
    "    d, prob = ks_test.ks2d2s(deangelis_data[:,0], deangelis_data[:,1], model_data_x, model_data_y)\n",
    "\n",
    "    return {\n",
    "        'status': 'ok',\n",
    "        'loss': 1-prob,\n",
    "        'attachments': {'units_probed':pickle.dumps([selected_units,sfs_fr_E,sfs_fr_I,dom_size_tuning_results,non_dom_surround_results])}\n",
    "        }"
   ]
  },
  {
   "cell_type": "code",
   "execution_count": 10,
   "metadata": {
    "collapsed": false
   },
   "outputs": [
    {
     "name": "stdout",
     "output_type": "stream",
     "text": [
      "Running a 2D, 2 sample Kolmogorov-Smirnov test!\n",
      "Running a 2D, 2 sample Kolmogorov-Smirnov test!\n",
      "Running a 2D, 2 sample Kolmogorov-Smirnov test!\n",
      "Running a 2D, 2 sample Kolmogorov-Smirnov test!\n",
      "Running a 2D, 2 sample Kolmogorov-Smirnov test!\n",
      "Running a 2D, 2 sample Kolmogorov-Smirnov test!\n",
      "Running a 2D, 2 sample Kolmogorov-Smirnov test!\n",
      "Running a 2D, 2 sample Kolmogorov-Smirnov test!\n",
      "Running a 2D, 2 sample Kolmogorov-Smirnov test!\n",
      "Running a 2D, 2 sample Kolmogorov-Smirnov test!\n",
      "Running a 2D, 2 sample Kolmogorov-Smirnov test!\n",
      "Running a 2D, 2 sample Kolmogorov-Smirnov test!\n",
      "Running a 2D, 2 sample Kolmogorov-Smirnov test!\n",
      "Running a 2D, 2 sample Kolmogorov-Smirnov test!\n",
      "Running a 2D, 2 sample Kolmogorov-Smirnov test!\n",
      "Running a 2D, 2 sample Kolmogorov-Smirnov test!\n",
      "Running a 2D, 2 sample Kolmogorov-Smirnov test!\n",
      "Running a 2D, 2 sample Kolmogorov-Smirnov test!\n",
      "Running a 2D, 2 sample Kolmogorov-Smirnov test!\n",
      "Running a 2D, 2 sample Kolmogorov-Smirnov test!\n",
      "Running a 2D, 2 sample Kolmogorov-Smirnov test!\n",
      "Running a 2D, 2 sample Kolmogorov-Smirnov test!\n",
      "Running a 2D, 2 sample Kolmogorov-Smirnov test!\n",
      "Running a 2D, 2 sample Kolmogorov-Smirnov test!\n",
      "Running a 2D, 2 sample Kolmogorov-Smirnov test!\n",
      "Running a 2D, 2 sample Kolmogorov-Smirnov test!\n",
      "Running a 2D, 2 sample Kolmogorov-Smirnov test!\n",
      "Running a 2D, 2 sample Kolmogorov-Smirnov test!\n",
      "Running a 2D, 2 sample Kolmogorov-Smirnov test!\n",
      "Running a 2D, 2 sample Kolmogorov-Smirnov test!\n",
      "Elapsed time for 30 hyperopt sims: 109882 seconds.\n",
      "tpe: {'sig_EE': 8.563365583414525, 'sig_EI': 4.6572752834146485, 'J_II': 0.10003992795600505, 'sig_IE': 12.28686725091605, 'sig_II': 4.561807797584932, 'J_EI': 0.10439395094013981, 'J_EE': 0.09534359782078061, 'J_IE': 0.3856901774771935}\n"
     ]
    }
   ],
   "source": [
    "# create a Trials database to store experiment results:\n",
    "trials = Trials()\n",
    "\n",
    "st = time.time()\n",
    "evals = 30\n",
    "best = fmin(iot_ssn_ks2d, space, algo=tpe.suggest, max_evals=evals, trials=trials)\n",
    "print \"Elapsed time for %d hyperopt sims: %d seconds.\" % (evals, time.time()-st)\n",
    "print 'tpe:', best"
   ]
  },
  {
   "cell_type": "code",
   "execution_count": 18,
   "metadata": {
    "collapsed": false
   },
   "outputs": [
    {
     "name": "stdout",
     "output_type": "stream",
     "text": [
      "0.000808093869825\n"
     ]
    }
   ],
   "source": [
    "print 1-np.min(trials.losses())"
   ]
  },
  {
   "cell_type": "code",
   "execution_count": null,
   "metadata": {
    "collapsed": true
   },
   "outputs": [],
   "source": [
    "deangelis_data = np.array([[42.711, 21.488],\n",
    "                            [44.588, 24.483],\n",
    "                            [44.999, 31.508],\n",
    "                            [58.885, 42.252],\n",
    "                            [56.048, 57.955],\n",
    "                            [64.901, 85.434],\n",
    "                            [75.685, 65.186],\n",
    "                            [79.023, 70.455],\n",
    "                            [84.173, 42.045],\n",
    "                            [98.365, 60.537],\n",
    "                            [98.224, 95.248],\n",
    "                            [82.045, 78.616],\n",
    "                            [81.002, 76.550]])\n",
    "deangelis_data = deangelis_data/100"
   ]
  },
  {
   "cell_type": "code",
   "execution_count": null,
   "metadata": {
    "collapsed": true
   },
   "outputs": [],
   "source": [
    "dom_SI_E = (sfs_fr_E - dom_size_tuning_results[:,-1,0])/sfs_fr_E\n",
    "non_dom_SI_E = (sfs_fr_E - non_dom_surround_results[:,0])/sfs_fr_E\n",
    "dom_SI_I = (sfs_fr_I - dom_size_tuning_results[:,-1,1])/sfs_fr_I\n",
    "non_dom_SI_I = (sfs_fr_I - non_dom_surround_results[:,1])/sfs_fr_I  \n",
    "\n",
    "# dom_SI_E[dom_SI_E<0] = 0\n",
    "# non_dom_SI_E[non_dom_SI_E<0] = 0\n",
    "\n",
    "# Concatenate the E and I results\n",
    "model_data_x = np.concatenate((dom_SI_E, dom_SI_I))\n",
    "model_data_y = np.concatenate((non_dom_SI_E, non_dom_SI_I))\n",
    "\n",
    "plt.figure()\n",
    "plt.scatter(deangelis_data[:,0], deangelis_data[:,1], c='k')\n",
    "# plt.scatter(model_data_x, model_data_y, c='r')\n",
    "plt.scatter(dom_SI_E, dom_SI_I, c='r')\n",
    "# plt.scatter(dom_SI_E_trimmed, non_dom_SI_E_trimmed, c='r')\n",
    "# plt.scatter(non_dom_SI_E, non_dom_SI_I, c='b')\n",
    "plt.plot([0,1], [0,1], 'k--')\n",
    "\n",
    "\n",
    "d, prob = ks_test.ks2d2s(deangelis_data[:,0], deangelis_data[:,1], model_data_x, model_data_y)\n",
    "print \"Significance: \", prob"
   ]
  },
  {
   "cell_type": "code",
   "execution_count": null,
   "metadata": {
    "collapsed": true
   },
   "outputs": [],
   "source": [
    "p_values = np.zeros(len(trials))\n",
    "for i in range(len(trials)):\n",
    "    trial_results = trials.trial_attachments(trials.trials[i])['units_probed']\n",
    "    [selected_units,sfs_fr_E,sfs_fr_I,dom_size_tuning_results,non_dom_surround_results] = pickle.loads(trial_results)\n",
    "    dom_SI_E = (sfs_fr_E - dom_size_tuning_results[:,-1,0])/sfs_fr_E\n",
    "    non_dom_SI_E = (sfs_fr_E - non_dom_surround_results[:,0])/sfs_fr_E\n",
    "    dom_SI_I = (sfs_fr_I - dom_size_tuning_results[:,-1,1])/sfs_fr_I\n",
    "    non_dom_SI_I = (sfs_fr_I - non_dom_surround_results[:,1])/sfs_fr_I\n",
    "    \n",
    "    d, prob = ks_test.ks2d2s(deangelis_data[:,0], deangelis_data[:,1], dom_SI_E, non_dom_SI_E)\n",
    "    p_values[i] = prob\n",
    "    \n",
    "print \"E units only p-values: \", p_values\n",
    "print \"Largest p value: %5.5f at trial %d\"  % (np.max(p_values), np.argmax(p_values))"
   ]
  },
  {
   "cell_type": "code",
   "execution_count": 26,
   "metadata": {
    "collapsed": false
   },
   "outputs": [
    {
     "data": {
      "image/png": "[encoded data removed]",
      "text/plain": [
       "<matplotlib.figure.Figure at 0x7fcf9b8adb10>"
      ]
     },
     "metadata": {},
     "output_type": "display_data"
    }
   ],
   "source": [
    "best_results = trials.trial_attachments(trials.trials[np.argmax(p_values)])['units_probed']\n",
    "[selected_units,sfs_fr_E,sfs_fr_I,dom_size_tuning_results,non_dom_surround_results] = pickle.loads(best_results)\n",
    "dom_SI_E = (sfs_fr_E - dom_size_tuning_results[:,-1,0])/sfs_fr_E\n",
    "non_dom_SI_E = (sfs_fr_E - non_dom_surround_results[:,0])/sfs_fr_E\n",
    "dom_SI_I = (sfs_fr_I - dom_size_tuning_results[:,-1,1])/sfs_fr_I\n",
    "non_dom_SI_I = (sfs_fr_I - non_dom_surround_results[:,1])/sfs_fr_I\n",
    "\n",
    "plt.figure()\n",
    "plt.scatter(deangelis_data[:,0], deangelis_data[:,1], c='k', label='DeAngelis data')\n",
    "plt.scatter(dom_SI_E, non_dom_SI_E, c='r', label='E units')\n",
    "plt.plot([0,1], [0,1], 'k--')\n",
    "# plt.axis([0,1,0,1])\n",
    "plt.xlabel('Dominant SI', fontsize=12)\n",
    "plt.ylabel('Non-dominant SI', fontsize=12)\n",
    "plt.legend(loc='best')\n",
    "\n",
    "plt.savefig('thesis_results/hyperopt_iot_E.eps', dpi=1000)"
   ]
  },
  {
   "cell_type": "code",
   "execution_count": 21,
   "metadata": {
    "collapsed": false
   },
   "outputs": [
    {
     "data": {
      "text/plain": [
       "(50, 29)"
      ]
     },
     "execution_count": 21,
     "metadata": {},
     "output_type": "execute_result"
    }
   ],
   "source": [
    "len(non_dom_SI_E), len(np.where(non_dom_SI_E>0)[0])"
   ]
  },
  {
   "cell_type": "code",
   "execution_count": 25,
   "metadata": {
    "collapsed": false
   },
   "outputs": [
    {
     "data": {
      "image/png": "[encoded data removed]",
      "text/plain": [
       "<matplotlib.figure.Figure at 0x7fcfb9d7a210>"
      ]
     },
     "metadata": {},
     "output_type": "display_data"
    }
   ],
   "source": [
    "plt.figure()\n",
    "plt.scatter(deangelis_data[:,0], deangelis_data[:,1], c='k', label='DeAngelis data')\n",
    "plt.scatter(dom_SI_I, non_dom_SI_I, c='c', label='I units')\n",
    "plt.plot([0,1], [0,1], 'k--')\n",
    "# plt.axis([0,1,0,1])\n",
    "plt.xlabel('Dominant SI', fontsize=12)\n",
    "plt.ylabel('Non-dominant SI', fontsize=12)\n",
    "plt.legend(loc='best')\n",
    "\n",
    "plt.savefig('thesis_results/hyperopt_iot_I.eps', dpi=1000)\n"
   ]
  },
  {
   "cell_type": "code",
   "execution_count": 23,
   "metadata": {
    "collapsed": false
   },
   "outputs": [
    {
     "data": {
      "text/plain": [
       "25"
      ]
     },
     "execution_count": 23,
     "metadata": {},
     "output_type": "execute_result"
    }
   ],
   "source": [
    "len(np.where(non_dom_SI_I==1)[0])"
   ]
  },
  {
   "cell_type": "code",
   "execution_count": null,
   "metadata": {
    "collapsed": true
   },
   "outputs": [],
   "source": []
  }
 ],
 "metadata": {
  "kernelspec": {
   "display_name": "Python 2",
   "language": "python",
   "name": "python2"
  },
  "language_info": {
   "codemirror_mode": {
    "name": "ipython",
    "version": 2
   },
   "file_extension": ".py",
   "mimetype": "text/x-python",
   "name": "python",
   "nbconvert_exporter": "python",
   "pygments_lexer": "ipython2",
   "version": "2.7.6"
  }
 },
 "nbformat": 4,
 "nbformat_minor": 0
}
