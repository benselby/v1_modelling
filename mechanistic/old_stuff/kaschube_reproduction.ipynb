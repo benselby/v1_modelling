{
 "cells": [
  {
   "cell_type": "code",
   "execution_count": 4,
   "metadata": {
    "collapsed": false
   },
   "outputs": [],
   "source": [
    "import numpy as np\n",
    "import matplotlib.pyplot as plt\n",
    "\n",
    "%matplotlib inline"
   ]
  },
  {
   "cell_type": "code",
   "execution_count": 7,
   "metadata": {
    "collapsed": true
   },
   "outputs": [],
   "source": [
    "# Attempt to produce the orientation map from Kaschube et al, 2010\n",
    "# using the supplementary material, specifically section 2.4:\n",
    "\n",
    "size = 16. # degrees\n",
    "N_units = 75 # units to a side\n",
    "\n",
    "x_range = np.linspace(0, size, N_units, endpoint=False)\n",
    "xv, yv = np.meshgrid(x_range, x_range)\n",
    "\n",
    "n = 30\n",
    "k_c = 8./N_units # cycles/grid interval\n",
    "k_j = np.zeros((n,2))\n",
    "OP_map = np.zeros((N_units, N_units))\n",
    "A = np.copy(OP_map)\n",
    "\n",
    "phi_j = np.zeros(n)\n",
    "\n",
    "for j in range(n):\n",
    "    k_j[j,0] = k_c*np.cos( np.pi*j / n )\n",
    "    k_j[j,1] = k_c*np.sin( np.pi*j / n )\n",
    "\n",
    "for x in range(N_units):\n",
    "    for y in range(N_units):\n",
    "        OP_map[y,x] = A[y,x] * np.sum(  )\n"
   ]
  },
  {
   "cell_type": "code",
   "execution_count": 8,
   "metadata": {
    "collapsed": false
   },
   "outputs": [
    {
     "data": {
      "text/plain": [
       "<matplotlib.image.AxesImage at 0x1065c4550>"
      ]
     },
     "execution_count": 8,
     "metadata": {},
     "output_type": "execute_result"
    },
    {
     "data": {
      "image/png": "[encoded data removed]",
      "text/plain": [
       "<matplotlib.figure.Figure at 0x10644d7d0>"
      ]
     },
     "metadata": {},
     "output_type": "display_data"
    },
    {
     "data": {
      "image/png": "[encoded data removed]",
      "text/plain": [
       "<matplotlib.figure.Figure at 0x1064425d0>"
      ]
     },
     "metadata": {},
     "output_type": "display_data"
    }
   ],
   "source": [
    "plt.figure()\n",
    "plt.imshow(OP_map)"
   ]
  },
  {
   "cell_type": "code",
   "execution_count": 9,
   "metadata": {
    "collapsed": false
   },
   "outputs": [
    {
     "data": {
      "text/plain": [
       "(array([  4.,   9.,  11.,  19.,  25.,  18.,   8.,   2.,   3.,   1.]),\n",
       " array([-47.03223093, -35.78707771, -24.54192449, -13.29677127,\n",
       "         -2.05161804,   9.19353518,  20.4386884 ,  31.68384162,\n",
       "         42.92899485,  54.17414807,  65.41930129]),\n",
       " <a list of 10 Patch objects>)"
      ]
     },
     "execution_count": 9,
     "metadata": {},
     "output_type": "execute_result"
    },
    {
     "data": {
      "image/png": "[encoded data removed]",
      "text/plain": [
       "<matplotlib.figure.Figure at 0x10670cd50>"
      ]
     },
     "metadata": {},
     "output_type": "display_data"
    }
   ],
   "source": [
    "\n",
    "\n",
    "rnd = np.random.normal(0,20,100)\n",
    "plt.figure()\n",
    "plt.hist(rnd)\n"
   ]
  },
  {
   "cell_type": "code",
   "execution_count": null,
   "metadata": {
    "collapsed": true
   },
   "outputs": [],
   "source": []
  }
 ],
 "metadata": {
  "kernelspec": {
   "display_name": "Python 2",
   "language": "python",
   "name": "python2"
  },
  "language_info": {
   "codemirror_mode": {
    "name": "ipython",
    "version": 2
   },
   "file_extension": ".py",
   "mimetype": "text/x-python",
   "name": "python",
   "nbconvert_exporter": "python",
   "pygments_lexer": "ipython2",
   "version": "2.7.9"
  }
 },
 "nbformat": 4,
 "nbformat_minor": 0
}
