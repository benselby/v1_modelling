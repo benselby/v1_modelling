{
 "cells": [
  {
   "cell_type": "code",
   "execution_count": null,
   "metadata": {
    "collapsed": true
   },
   "outputs": [],
   "source": [
    "import matplotlib.pyplot as plt\n",
    "import matplotlib.image as mpimg\n",
    "import numpy as np\n",
    "from scipy.cluster.vq import kmeans2\n",
    "from scipy import ndimage\n",
    "from skimage import io, color\n",
    "\n",
    "%matplotlib inline"
   ]
  },
  {
   "cell_type": "code",
   "execution_count": null,
   "metadata": {
    "collapsed": true
   },
   "outputs": [],
   "source": [
    "# Orientation preference map: for now, use k-means on Blasdel image\n",
    "# rgb_img = mpimg.imread('v1-topology-blasdel-figure6.png')\n",
    "rgb_img = mpimg.imread('orientation-preference-rubin-figure6.png')\n",
    "\n",
    "plt.figure()\n",
    "plt.imshow(rgb_img)\n",
    "plt.title('Original topographic image')\n",
    "\n",
    "lab_img = color.rgb2lab(rgb_img) # convert to L*a*b* colourspace\n",
    "\n",
    "ab = lab_img[:,:,1:]\n",
    "n_rows = np.shape(ab)[0]\n",
    "n_cols = np.shape(ab)[1]\n",
    "\n",
    "ab = np.reshape(ab, (n_rows*n_cols, 2))\n",
    "n_colours = 30\n",
    "\n",
    "centroids, labels = kmeans2(ab, n_colours)\n",
    "\n",
    "labels = np.reshape(labels, (n_rows, n_cols))\n",
    "\n",
    "rgb_labels = np.tile(labels[:,:,None], [1,1,3])\n",
    "\n",
    "OP_range = np.linspace(0, 180, n_colours, endpoint=False)\n",
    "full_OP_map = np.copy(labels)\n",
    "\n",
    "for i in range(n_colours):\n",
    "    seg_img = np.copy(rgb_img)\n",
    "    seg_img[rgb_labels != i] = 0  \n",
    "    \n",
    "    # assign an orientation preference (degrees) based on segmentation\n",
    "    full_OP_map[full_OP_map == i] = OP_range[i]\n",
    "    \n",
    "    # Show the individual segmented images:\n",
    "#     plt.figure()\n",
    "#     plt.imshow(seg_img)\n",
    "\n",
    "N_pairs = 75 # no. of E/I pairs to a side of a grid\n",
    "field_size = 16. # size of field to a side (degrees)\n",
    "dx = field_size / N_pairs\n",
    "\n",
    "xy_range = np.linspace(0, field_size, N_pairs, False)\n",
    "# xy_range = np.linspace(-field_size/2, field_size/2, N_pairs)\n",
    "\n",
    "xv, yv = np.meshgrid(xy_range, xy_range) # x and y grid values (degrees)\n",
    "\n",
    "# sample the OP map uniformly \n",
    "min_dim = np.min(np.shape(full_OP_map))\n",
    "o_samples = np.round(np.linspace(0, min_dim-1, N_pairs))\n",
    "\n",
    "xo, yo = np.meshgrid(o_samples, o_samples)\n",
    "\n",
    "xo = xo.astype(int)\n",
    "yo = yo.astype(int)\n",
    "\n",
    "OP_map = full_OP_map[yo,xo]\n",
    "\n",
    "OP_map = OP_map.astype(float)\n",
    "\n",
    "plt.figure()\n",
    "plt.imshow(OP_map)"
   ]
  },
  {
   "cell_type": "code",
   "execution_count": null,
   "metadata": {
    "collapsed": true
   },
   "outputs": [],
   "source": []
  }
 ],
 "metadata": {
  "kernelspec": {
   "display_name": "Python 2",
   "language": "python",
   "name": "python2"
  },
  "language_info": {
   "codemirror_mode": {
    "name": "ipython",
    "version": 2
   },
   "file_extension": ".py",
   "mimetype": "text/x-python",
   "name": "python",
   "nbconvert_exporter": "python",
   "pygments_lexer": "ipython2",
   "version": "2.7.9"
  }
 },
 "nbformat": 4,
 "nbformat_minor": 0
}
